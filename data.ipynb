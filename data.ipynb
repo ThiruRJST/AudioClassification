{
 "cells": [
  {
   "cell_type": "code",
   "execution_count": 1,
   "metadata": {},
   "outputs": [],
   "source": [
    "import pandas as pd\n",
    "import torchaudio.transforms as T\n",
    "from pytube import YouTube\n",
    "import torchaudio\n",
    "from tqdm.notebook import tqdm\n",
    "import numpy as np\n",
    "import glob\n",
    "from sklearn.model_selection import StratifiedKFold\n",
    "from pytube.exceptions import VideoPrivate"
   ]
  },
  {
   "cell_type": "code",
   "execution_count": 2,
   "metadata": {},
   "outputs": [],
   "source": [
    "data = pd.read_csv('wanted.csv')"
   ]
  },
  {
   "cell_type": "code",
   "execution_count": 3,
   "metadata": {},
   "outputs": [
    {
     "data": {
      "text/html": [
       "<div>\n",
       "<style scoped>\n",
       "    .dataframe tbody tr th:only-of-type {\n",
       "        vertical-align: middle;\n",
       "    }\n",
       "\n",
       "    .dataframe tbody tr th {\n",
       "        vertical-align: top;\n",
       "    }\n",
       "\n",
       "    .dataframe thead th {\n",
       "        text-align: right;\n",
       "    }\n",
       "</style>\n",
       "<table border=\"1\" class=\"dataframe\">\n",
       "  <thead>\n",
       "    <tr style=\"text-align: right;\">\n",
       "      <th></th>\n",
       "      <th>YTID</th>\n",
       "      <th>start</th>\n",
       "      <th>end</th>\n",
       "      <th>labels</th>\n",
       "    </tr>\n",
       "  </thead>\n",
       "  <tbody>\n",
       "    <tr>\n",
       "      <th>0</th>\n",
       "      <td>-9ek6eO0RtI</td>\n",
       "      <td>260.0</td>\n",
       "      <td>270.0</td>\n",
       "      <td>/m/03wwcy</td>\n",
       "    </tr>\n",
       "    <tr>\n",
       "      <th>1</th>\n",
       "      <td>-JKLmqDk9p8</td>\n",
       "      <td>490.0</td>\n",
       "      <td>500.0</td>\n",
       "      <td>/m/06mb1,/m/07r10fb,/m/0jb2l,/m/0ngt1,/t/dd00038</td>\n",
       "    </tr>\n",
       "    <tr>\n",
       "      <th>2</th>\n",
       "      <td>-gStrDahsjU</td>\n",
       "      <td>20.0</td>\n",
       "      <td>30.0</td>\n",
       "      <td>/m/03wwcy,/m/04rlf,/m/09x0r,/t/dd00126</td>\n",
       "    </tr>\n",
       "    <tr>\n",
       "      <th>3</th>\n",
       "      <td>-uSlzn9oPQ4</td>\n",
       "      <td>20.0</td>\n",
       "      <td>30.0</td>\n",
       "      <td>/m/06mb1,/m/0jb2l,/m/0ngt1,/t/dd00038</td>\n",
       "    </tr>\n",
       "    <tr>\n",
       "      <th>4</th>\n",
       "      <td>021B2ozAjNg</td>\n",
       "      <td>110.0</td>\n",
       "      <td>120.0</td>\n",
       "      <td>/m/01h8n0,/m/09x0r</td>\n",
       "    </tr>\n",
       "    <tr>\n",
       "      <th>...</th>\n",
       "      <td>...</td>\n",
       "      <td>...</td>\n",
       "      <td>...</td>\n",
       "      <td>...</td>\n",
       "    </tr>\n",
       "    <tr>\n",
       "      <th>235</th>\n",
       "      <td>yw9MbiKIhdM</td>\n",
       "      <td>120.0</td>\n",
       "      <td>130.0</td>\n",
       "      <td>/m/01h8n0,/m/09x0r</td>\n",
       "    </tr>\n",
       "    <tr>\n",
       "      <th>236</th>\n",
       "      <td>zQpPfONDPXs</td>\n",
       "      <td>360.0</td>\n",
       "      <td>370.0</td>\n",
       "      <td>/m/0463cq4,/m/09x0r,/t/dd00002,/t/dd00125</td>\n",
       "    </tr>\n",
       "    <tr>\n",
       "      <th>237</th>\n",
       "      <td>zY1LJu1j4zw</td>\n",
       "      <td>30.0</td>\n",
       "      <td>40.0</td>\n",
       "      <td>/t/dd00002</td>\n",
       "    </tr>\n",
       "    <tr>\n",
       "      <th>238</th>\n",
       "      <td>zkNbNA2mLIg</td>\n",
       "      <td>20.0</td>\n",
       "      <td>30.0</td>\n",
       "      <td>/t/dd00002</td>\n",
       "    </tr>\n",
       "    <tr>\n",
       "      <th>239</th>\n",
       "      <td>zuW75_LUwCE</td>\n",
       "      <td>400.0</td>\n",
       "      <td>410.0</td>\n",
       "      <td>/m/02zsn,/m/03wwcy,/m/09x0r</td>\n",
       "    </tr>\n",
       "  </tbody>\n",
       "</table>\n",
       "<p>240 rows × 4 columns</p>\n",
       "</div>"
      ],
      "text/plain": [
       "            YTID  start    end  \\\n",
       "0    -9ek6eO0RtI  260.0  270.0   \n",
       "1    -JKLmqDk9p8  490.0  500.0   \n",
       "2    -gStrDahsjU   20.0   30.0   \n",
       "3    -uSlzn9oPQ4   20.0   30.0   \n",
       "4    021B2ozAjNg  110.0  120.0   \n",
       "..           ...    ...    ...   \n",
       "235  yw9MbiKIhdM  120.0  130.0   \n",
       "236  zQpPfONDPXs  360.0  370.0   \n",
       "237  zY1LJu1j4zw   30.0   40.0   \n",
       "238  zkNbNA2mLIg   20.0   30.0   \n",
       "239  zuW75_LUwCE  400.0  410.0   \n",
       "\n",
       "                                               labels  \n",
       "0                                           /m/03wwcy  \n",
       "1    /m/06mb1,/m/07r10fb,/m/0jb2l,/m/0ngt1,/t/dd00038  \n",
       "2              /m/03wwcy,/m/04rlf,/m/09x0r,/t/dd00126  \n",
       "3               /m/06mb1,/m/0jb2l,/m/0ngt1,/t/dd00038  \n",
       "4                                  /m/01h8n0,/m/09x0r  \n",
       "..                                                ...  \n",
       "235                                /m/01h8n0,/m/09x0r  \n",
       "236         /m/0463cq4,/m/09x0r,/t/dd00002,/t/dd00125  \n",
       "237                                        /t/dd00002  \n",
       "238                                        /t/dd00002  \n",
       "239                       /m/02zsn,/m/03wwcy,/m/09x0r  \n",
       "\n",
       "[240 rows x 4 columns]"
      ]
     },
     "execution_count": 3,
     "metadata": {},
     "output_type": "execute_result"
    }
   ],
   "source": [
    "data"
   ]
  },
  {
   "cell_type": "code",
   "execution_count": 4,
   "metadata": {},
   "outputs": [],
   "source": [
    "class_map = {\n",
    "    '/t/dd00002':'Baby',\n",
    "    '/m/03wwcy':'Doorbell',\n",
    "    '/m/01h8n0':'Conversation',\n",
    "    '/t/dd00038':'Rain'\n",
    "}"
   ]
  },
  {
   "cell_type": "code",
   "execution_count": 13,
   "metadata": {},
   "outputs": [],
   "source": [
    "def download_audio(df:pd.DataFrame):\n",
    "    miss_vids = []\n",
    "    root_url = \"https://www.youtube.com/watch?v=\"\n",
    "    n = len(df)\n",
    "    for i in tqdm(range(n)):\n",
    "        uid = df.loc[i,'YTID']\n",
    "        l = df.loc[i,'labels'].split(',')\n",
    "        if len(l) == 1:\n",
    "            p = class_map[l[0]]\n",
    "        else:\n",
    "            for j in class_map.keys():\n",
    "                if j in l:\n",
    "                    p = class_map[j]\n",
    "        try:\n",
    "            yt = YouTube(url=root_url+uid)\n",
    "            title = yt.title\n",
    "            stream = yt.streams.filter(only_audio=True).all()\n",
    "            miss_vids.append({'path':f\"{p}/{title}\",'vides-id':uid,'start_time':df.loc[i,'start'],'end_time':df.loc[i,'end'],'class':p})\n",
    "            print(yt)\n",
    "        except (Exception):\n",
    "            print(f\"{uid}\")\n",
    "            pass\n",
    "        \n",
    "        else:\n",
    "            stream[0].download(p)\n",
    "    return miss_vids        "
   ]
  },
  {
   "cell_type": "code",
   "execution_count": null,
   "metadata": {},
   "outputs": [],
   "source": [
    "missed = download_audio(data)"
   ]
  },
  {
   "cell_type": "code",
   "execution_count": 15,
   "metadata": {},
   "outputs": [
    {
     "name": "stderr",
     "output_type": "stream",
     "text": [
      "/home/lustbeast/.virtualenvs/baseline/lib/python3.8/site-packages/ipykernel/ipkernel.py:283: DeprecationWarning: `should_run_async` will not call `transform_cell` automatically in the future. Please pass the result to `transformed_cell` argument and any exception that happen during thetransform in `preprocessing_exc_tuple` in IPython 7.17 and above.\n",
      "  and should_run_async(code)\n"
     ]
    }
   ],
   "source": [
    "df = pd.DataFrame(missed)"
   ]
  },
  {
   "cell_type": "code",
   "execution_count": 17,
   "metadata": {},
   "outputs": [
    {
     "name": "stderr",
     "output_type": "stream",
     "text": [
      "/home/lustbeast/.virtualenvs/baseline/lib/python3.8/site-packages/ipykernel/ipkernel.py:283: DeprecationWarning: `should_run_async` will not call `transform_cell` automatically in the future. Please pass the result to `transformed_cell` argument and any exception that happen during thetransform in `preprocessing_exc_tuple` in IPython 7.17 and above.\n",
      "  and should_run_async(code)\n"
     ]
    }
   ],
   "source": [
    "df.to_csv(\"160.csv\",index=False)"
   ]
  },
  {
   "cell_type": "markdown",
   "metadata": {},
   "source": [
    "## Analysis and Preprocessing"
   ]
  },
  {
   "cell_type": "code",
   "execution_count": 18,
   "metadata": {},
   "outputs": [
    {
     "name": "stderr",
     "output_type": "stream",
     "text": [
      "/home/lustbeast/.virtualenvs/baseline/lib/python3.8/site-packages/ipykernel/ipkernel.py:283: DeprecationWarning: `should_run_async` will not call `transform_cell` automatically in the future. Please pass the result to `transformed_cell` argument and any exception that happen during thetransform in `preprocessing_exc_tuple` in IPython 7.17 and above.\n",
      "  and should_run_async(code)\n"
     ]
    }
   ],
   "source": [
    "aud_df = pd.read_csv(\"160.csv\")"
   ]
  },
  {
   "cell_type": "code",
   "execution_count": 19,
   "metadata": {},
   "outputs": [
    {
     "name": "stderr",
     "output_type": "stream",
     "text": [
      "/home/lustbeast/.virtualenvs/baseline/lib/python3.8/site-packages/ipykernel/ipkernel.py:283: DeprecationWarning: `should_run_async` will not call `transform_cell` automatically in the future. Please pass the result to `transformed_cell` argument and any exception that happen during thetransform in `preprocessing_exc_tuple` in IPython 7.17 and above.\n",
      "  and should_run_async(code)\n"
     ]
    },
    {
     "data": {
      "text/html": [
       "<div>\n",
       "<style scoped>\n",
       "    .dataframe tbody tr th:only-of-type {\n",
       "        vertical-align: middle;\n",
       "    }\n",
       "\n",
       "    .dataframe tbody tr th {\n",
       "        vertical-align: top;\n",
       "    }\n",
       "\n",
       "    .dataframe thead th {\n",
       "        text-align: right;\n",
       "    }\n",
       "</style>\n",
       "<table border=\"1\" class=\"dataframe\">\n",
       "  <thead>\n",
       "    <tr style=\"text-align: right;\">\n",
       "      <th></th>\n",
       "      <th>path</th>\n",
       "      <th>vides-id</th>\n",
       "      <th>start_time</th>\n",
       "      <th>end_time</th>\n",
       "      <th>class</th>\n",
       "    </tr>\n",
       "  </thead>\n",
       "  <tbody>\n",
       "    <tr>\n",
       "      <th>0</th>\n",
       "      <td>Doorbell/Cordless Remote Wireless Door Bell @m...</td>\n",
       "      <td>-9ek6eO0RtI</td>\n",
       "      <td>260.0</td>\n",
       "      <td>270.0</td>\n",
       "      <td>Doorbell</td>\n",
       "    </tr>\n",
       "    <tr>\n",
       "      <th>1</th>\n",
       "      <td>Rain/Tibetan Bell &amp; Rain Meditation</td>\n",
       "      <td>-JKLmqDk9p8</td>\n",
       "      <td>490.0</td>\n",
       "      <td>500.0</td>\n",
       "      <td>Rain</td>\n",
       "    </tr>\n",
       "    <tr>\n",
       "      <th>2</th>\n",
       "      <td>Rain/poe karen new song 2016</td>\n",
       "      <td>-uSlzn9oPQ4</td>\n",
       "      <td>20.0</td>\n",
       "      <td>30.0</td>\n",
       "      <td>Rain</td>\n",
       "    </tr>\n",
       "    <tr>\n",
       "      <th>3</th>\n",
       "      <td>Conversation/Emma Watson, IGN interview 2001</td>\n",
       "      <td>021B2ozAjNg</td>\n",
       "      <td>110.0</td>\n",
       "      <td>120.0</td>\n",
       "      <td>Conversation</td>\n",
       "    </tr>\n",
       "    <tr>\n",
       "      <th>4</th>\n",
       "      <td>Doorbell/バックブザー バックメロディー　後退警報音声</td>\n",
       "      <td>02JEvDAcq7U</td>\n",
       "      <td>10.0</td>\n",
       "      <td>20.0</td>\n",
       "      <td>Doorbell</td>\n",
       "    </tr>\n",
       "    <tr>\n",
       "      <th>...</th>\n",
       "      <td>...</td>\n",
       "      <td>...</td>\n",
       "      <td>...</td>\n",
       "      <td>...</td>\n",
       "      <td>...</td>\n",
       "    </tr>\n",
       "    <tr>\n",
       "      <th>175</th>\n",
       "      <td>Rain/Rain and thunder sounds</td>\n",
       "      <td>y2A1Pmiu7yw</td>\n",
       "      <td>30.0</td>\n",
       "      <td>40.0</td>\n",
       "      <td>Rain</td>\n",
       "    </tr>\n",
       "    <tr>\n",
       "      <th>176</th>\n",
       "      <td>Doorbell/Electric Feel - MGMT .cvrbrthrs.</td>\n",
       "      <td>y9na4SXQfFE</td>\n",
       "      <td>10.0</td>\n",
       "      <td>20.0</td>\n",
       "      <td>Doorbell</td>\n",
       "    </tr>\n",
       "    <tr>\n",
       "      <th>177</th>\n",
       "      <td>Doorbell/Double D's Epic Rick Roll Doorbell</td>\n",
       "      <td>yNqiSfX8e3Y</td>\n",
       "      <td>12.0</td>\n",
       "      <td>22.0</td>\n",
       "      <td>Doorbell</td>\n",
       "    </tr>\n",
       "    <tr>\n",
       "      <th>178</th>\n",
       "      <td>Baby/Alondra Capitulo 56/4</td>\n",
       "      <td>zQpPfONDPXs</td>\n",
       "      <td>360.0</td>\n",
       "      <td>370.0</td>\n",
       "      <td>Baby</td>\n",
       "    </tr>\n",
       "    <tr>\n",
       "      <th>179</th>\n",
       "      <td>Baby/Crying Emma</td>\n",
       "      <td>zY1LJu1j4zw</td>\n",
       "      <td>30.0</td>\n",
       "      <td>40.0</td>\n",
       "      <td>Baby</td>\n",
       "    </tr>\n",
       "  </tbody>\n",
       "</table>\n",
       "<p>180 rows × 5 columns</p>\n",
       "</div>"
      ],
      "text/plain": [
       "                                                  path     vides-id  \\\n",
       "0    Doorbell/Cordless Remote Wireless Door Bell @m...  -9ek6eO0RtI   \n",
       "1                  Rain/Tibetan Bell & Rain Meditation  -JKLmqDk9p8   \n",
       "2                         Rain/poe karen new song 2016  -uSlzn9oPQ4   \n",
       "3         Conversation/Emma Watson, IGN interview 2001  021B2ozAjNg   \n",
       "4                      Doorbell/バックブザー バックメロディー　後退警報音声  02JEvDAcq7U   \n",
       "..                                                 ...          ...   \n",
       "175                       Rain/Rain and thunder sounds  y2A1Pmiu7yw   \n",
       "176          Doorbell/Electric Feel - MGMT .cvrbrthrs.  y9na4SXQfFE   \n",
       "177        Doorbell/Double D's Epic Rick Roll Doorbell  yNqiSfX8e3Y   \n",
       "178                         Baby/Alondra Capitulo 56/4  zQpPfONDPXs   \n",
       "179                                   Baby/Crying Emma  zY1LJu1j4zw   \n",
       "\n",
       "     start_time  end_time         class  \n",
       "0         260.0     270.0      Doorbell  \n",
       "1         490.0     500.0          Rain  \n",
       "2          20.0      30.0          Rain  \n",
       "3         110.0     120.0  Conversation  \n",
       "4          10.0      20.0      Doorbell  \n",
       "..          ...       ...           ...  \n",
       "175        30.0      40.0          Rain  \n",
       "176        10.0      20.0      Doorbell  \n",
       "177        12.0      22.0      Doorbell  \n",
       "178       360.0     370.0          Baby  \n",
       "179        30.0      40.0          Baby  \n",
       "\n",
       "[180 rows x 5 columns]"
      ]
     },
     "execution_count": 19,
     "metadata": {},
     "output_type": "execute_result"
    }
   ],
   "source": [
    "aud_df"
   ]
  },
  {
   "cell_type": "code",
   "execution_count": 20,
   "metadata": {},
   "outputs": [
    {
     "name": "stderr",
     "output_type": "stream",
     "text": [
      "/home/lustbeast/.virtualenvs/baseline/lib/python3.8/site-packages/ipykernel/ipkernel.py:283: DeprecationWarning: `should_run_async` will not call `transform_cell` automatically in the future. Please pass the result to `transformed_cell` argument and any exception that happen during thetransform in `preprocessing_exc_tuple` in IPython 7.17 and above.\n",
      "  and should_run_async(code)\n"
     ]
    }
   ],
   "source": [
    "aud_df['offset'] = aud_df['end_time'] - aud_df['start_time']"
   ]
  },
  {
   "cell_type": "code",
   "execution_count": 25,
   "metadata": {},
   "outputs": [
    {
     "name": "stderr",
     "output_type": "stream",
     "text": [
      "/home/lustbeast/.virtualenvs/baseline/lib/python3.8/site-packages/ipykernel/ipkernel.py:283: DeprecationWarning: `should_run_async` will not call `transform_cell` automatically in the future. Please pass the result to `transformed_cell` argument and any exception that happen during thetransform in `preprocessing_exc_tuple` in IPython 7.17 and above.\n",
      "  and should_run_async(code)\n"
     ]
    }
   ],
   "source": [
    "aud_df.to_csv('160.csv',index=False)"
   ]
  },
  {
   "cell_type": "code",
   "execution_count": 24,
   "metadata": {},
   "outputs": [
    {
     "data": {
      "text/plain": [
       "Rain            50\n",
       "Conversation    44\n",
       "Baby            44\n",
       "Doorbell        42\n",
       "Name: class, dtype: int64"
      ]
     },
     "execution_count": 24,
     "metadata": {},
     "output_type": "execute_result"
    }
   ],
   "source": [
    "aud_df['class'].value_counts()"
   ]
  },
  {
   "cell_type": "code",
   "execution_count": 28,
   "metadata": {},
   "outputs": [
    {
     "name": "stderr",
     "output_type": "stream",
     "text": [
      "/home/lustbeast/.virtualenvs/baseline/lib/python3.8/site-packages/ipykernel/ipkernel.py:283: DeprecationWarning: `should_run_async` will not call `transform_cell` automatically in the future. Please pass the result to `transformed_cell` argument and any exception that happen during thetransform in `preprocessing_exc_tuple` in IPython 7.17 and above.\n",
      "  and should_run_async(code)\n"
     ]
    }
   ],
   "source": [
    "aud_df['folds'] = -1\n",
    "for i,(train_id,val_id) in enumerate(StratifiedKFold(n_splits=5).split(aud_df.path,aud_df['class'])) :\n",
    "    #print(i,train_id,val_id)\n",
    "    aud_df.loc[val_id,'folds'] = i"
   ]
  },
  {
   "cell_type": "code",
   "execution_count": 30,
   "metadata": {},
   "outputs": [
    {
     "name": "stderr",
     "output_type": "stream",
     "text": [
      "/home/lustbeast/.virtualenvs/baseline/lib/python3.8/site-packages/ipykernel/ipkernel.py:283: DeprecationWarning: `should_run_async` will not call `transform_cell` automatically in the future. Please pass the result to `transformed_cell` argument and any exception that happen during thetransform in `preprocessing_exc_tuple` in IPython 7.17 and above.\n",
      "  and should_run_async(code)\n"
     ]
    },
    {
     "data": {
      "text/plain": [
       "0    36\n",
       "1    36\n",
       "2    36\n",
       "3    36\n",
       "4    36\n",
       "Name: folds, dtype: int64"
      ]
     },
     "execution_count": 30,
     "metadata": {},
     "output_type": "execute_result"
    }
   ],
   "source": [
    "aud_df.folds.value_counts()"
   ]
  },
  {
   "cell_type": "code",
   "execution_count": 31,
   "metadata": {},
   "outputs": [
    {
     "name": "stderr",
     "output_type": "stream",
     "text": [
      "/home/lustbeast/.virtualenvs/baseline/lib/python3.8/site-packages/ipykernel/ipkernel.py:283: DeprecationWarning: `should_run_async` will not call `transform_cell` automatically in the future. Please pass the result to `transformed_cell` argument and any exception that happen during thetransform in `preprocessing_exc_tuple` in IPython 7.17 and above.\n",
      "  and should_run_async(code)\n"
     ]
    }
   ],
   "source": [
    "aud_df.to_csv('160.csv',index=False)"
   ]
  },
  {
   "cell_type": "code",
   "execution_count": 32,
   "metadata": {},
   "outputs": [
    {
     "name": "stderr",
     "output_type": "stream",
     "text": [
      "/home/lustbeast/.virtualenvs/baseline/lib/python3.8/site-packages/ipykernel/ipkernel.py:283: DeprecationWarning: `should_run_async` will not call `transform_cell` automatically in the future. Please pass the result to `transformed_cell` argument and any exception that happen during thetransform in `preprocessing_exc_tuple` in IPython 7.17 and above.\n",
      "  and should_run_async(code)\n"
     ]
    },
    {
     "data": {
      "text/html": [
       "<div>\n",
       "<style scoped>\n",
       "    .dataframe tbody tr th:only-of-type {\n",
       "        vertical-align: middle;\n",
       "    }\n",
       "\n",
       "    .dataframe tbody tr th {\n",
       "        vertical-align: top;\n",
       "    }\n",
       "\n",
       "    .dataframe thead th {\n",
       "        text-align: right;\n",
       "    }\n",
       "</style>\n",
       "<table border=\"1\" class=\"dataframe\">\n",
       "  <thead>\n",
       "    <tr style=\"text-align: right;\">\n",
       "      <th></th>\n",
       "      <th>path</th>\n",
       "      <th>vides-id</th>\n",
       "      <th>start_time</th>\n",
       "      <th>end_time</th>\n",
       "      <th>class</th>\n",
       "      <th>folds</th>\n",
       "      <th>duration</th>\n",
       "    </tr>\n",
       "  </thead>\n",
       "  <tbody>\n",
       "    <tr>\n",
       "      <th>0</th>\n",
       "      <td>Doorbell/Cordless Remote Wireless Door Bell @m...</td>\n",
       "      <td>-9ek6eO0RtI</td>\n",
       "      <td>260.0</td>\n",
       "      <td>270.0</td>\n",
       "      <td>Doorbell</td>\n",
       "      <td>0</td>\n",
       "      <td>10.0</td>\n",
       "    </tr>\n",
       "    <tr>\n",
       "      <th>1</th>\n",
       "      <td>Rain/Tibetan Bell &amp; Rain Meditation</td>\n",
       "      <td>-JKLmqDk9p8</td>\n",
       "      <td>490.0</td>\n",
       "      <td>500.0</td>\n",
       "      <td>Rain</td>\n",
       "      <td>0</td>\n",
       "      <td>10.0</td>\n",
       "    </tr>\n",
       "    <tr>\n",
       "      <th>2</th>\n",
       "      <td>Rain/poe karen new song 2016</td>\n",
       "      <td>-uSlzn9oPQ4</td>\n",
       "      <td>20.0</td>\n",
       "      <td>30.0</td>\n",
       "      <td>Rain</td>\n",
       "      <td>0</td>\n",
       "      <td>10.0</td>\n",
       "    </tr>\n",
       "    <tr>\n",
       "      <th>3</th>\n",
       "      <td>Conversation/Emma Watson, IGN interview 2001</td>\n",
       "      <td>021B2ozAjNg</td>\n",
       "      <td>110.0</td>\n",
       "      <td>120.0</td>\n",
       "      <td>Conversation</td>\n",
       "      <td>0</td>\n",
       "      <td>10.0</td>\n",
       "    </tr>\n",
       "    <tr>\n",
       "      <th>4</th>\n",
       "      <td>Doorbell/バックブザー バックメロディー　後退警報音声</td>\n",
       "      <td>02JEvDAcq7U</td>\n",
       "      <td>10.0</td>\n",
       "      <td>20.0</td>\n",
       "      <td>Doorbell</td>\n",
       "      <td>0</td>\n",
       "      <td>10.0</td>\n",
       "    </tr>\n",
       "    <tr>\n",
       "      <th>...</th>\n",
       "      <td>...</td>\n",
       "      <td>...</td>\n",
       "      <td>...</td>\n",
       "      <td>...</td>\n",
       "      <td>...</td>\n",
       "      <td>...</td>\n",
       "      <td>...</td>\n",
       "    </tr>\n",
       "    <tr>\n",
       "      <th>175</th>\n",
       "      <td>Rain/Rain and thunder sounds</td>\n",
       "      <td>y2A1Pmiu7yw</td>\n",
       "      <td>30.0</td>\n",
       "      <td>40.0</td>\n",
       "      <td>Rain</td>\n",
       "      <td>4</td>\n",
       "      <td>10.0</td>\n",
       "    </tr>\n",
       "    <tr>\n",
       "      <th>176</th>\n",
       "      <td>Doorbell/Electric Feel - MGMT .cvrbrthrs.</td>\n",
       "      <td>y9na4SXQfFE</td>\n",
       "      <td>10.0</td>\n",
       "      <td>20.0</td>\n",
       "      <td>Doorbell</td>\n",
       "      <td>4</td>\n",
       "      <td>10.0</td>\n",
       "    </tr>\n",
       "    <tr>\n",
       "      <th>177</th>\n",
       "      <td>Doorbell/Double D's Epic Rick Roll Doorbell</td>\n",
       "      <td>yNqiSfX8e3Y</td>\n",
       "      <td>12.0</td>\n",
       "      <td>22.0</td>\n",
       "      <td>Doorbell</td>\n",
       "      <td>4</td>\n",
       "      <td>10.0</td>\n",
       "    </tr>\n",
       "    <tr>\n",
       "      <th>178</th>\n",
       "      <td>Baby/Alondra Capitulo 56/4</td>\n",
       "      <td>zQpPfONDPXs</td>\n",
       "      <td>360.0</td>\n",
       "      <td>370.0</td>\n",
       "      <td>Baby</td>\n",
       "      <td>4</td>\n",
       "      <td>10.0</td>\n",
       "    </tr>\n",
       "    <tr>\n",
       "      <th>179</th>\n",
       "      <td>Baby/Crying Emma</td>\n",
       "      <td>zY1LJu1j4zw</td>\n",
       "      <td>30.0</td>\n",
       "      <td>40.0</td>\n",
       "      <td>Baby</td>\n",
       "      <td>4</td>\n",
       "      <td>10.0</td>\n",
       "    </tr>\n",
       "  </tbody>\n",
       "</table>\n",
       "<p>180 rows × 7 columns</p>\n",
       "</div>"
      ],
      "text/plain": [
       "                                                  path     vides-id  \\\n",
       "0    Doorbell/Cordless Remote Wireless Door Bell @m...  -9ek6eO0RtI   \n",
       "1                  Rain/Tibetan Bell & Rain Meditation  -JKLmqDk9p8   \n",
       "2                         Rain/poe karen new song 2016  -uSlzn9oPQ4   \n",
       "3         Conversation/Emma Watson, IGN interview 2001  021B2ozAjNg   \n",
       "4                      Doorbell/バックブザー バックメロディー　後退警報音声  02JEvDAcq7U   \n",
       "..                                                 ...          ...   \n",
       "175                       Rain/Rain and thunder sounds  y2A1Pmiu7yw   \n",
       "176          Doorbell/Electric Feel - MGMT .cvrbrthrs.  y9na4SXQfFE   \n",
       "177        Doorbell/Double D's Epic Rick Roll Doorbell  yNqiSfX8e3Y   \n",
       "178                         Baby/Alondra Capitulo 56/4  zQpPfONDPXs   \n",
       "179                                   Baby/Crying Emma  zY1LJu1j4zw   \n",
       "\n",
       "     start_time  end_time         class  folds  duration  \n",
       "0         260.0     270.0      Doorbell      0      10.0  \n",
       "1         490.0     500.0          Rain      0      10.0  \n",
       "2          20.0      30.0          Rain      0      10.0  \n",
       "3         110.0     120.0  Conversation      0      10.0  \n",
       "4          10.0      20.0      Doorbell      0      10.0  \n",
       "..          ...       ...           ...    ...       ...  \n",
       "175        30.0      40.0          Rain      4      10.0  \n",
       "176        10.0      20.0      Doorbell      4      10.0  \n",
       "177        12.0      22.0      Doorbell      4      10.0  \n",
       "178       360.0     370.0          Baby      4      10.0  \n",
       "179        30.0      40.0          Baby      4      10.0  \n",
       "\n",
       "[180 rows x 7 columns]"
      ]
     },
     "execution_count": 32,
     "metadata": {},
     "output_type": "execute_result"
    }
   ],
   "source": [
    "aud_df['duration'] = aud_df['offset']\n",
    "aud_df.drop(labels=['offset'],axis=1)"
   ]
  },
  {
   "cell_type": "code",
   "execution_count": 33,
   "metadata": {},
   "outputs": [
    {
     "name": "stderr",
     "output_type": "stream",
     "text": [
      "/home/lustbeast/.virtualenvs/baseline/lib/python3.8/site-packages/ipykernel/ipkernel.py:283: DeprecationWarning: `should_run_async` will not call `transform_cell` automatically in the future. Please pass the result to `transformed_cell` argument and any exception that happen during thetransform in `preprocessing_exc_tuple` in IPython 7.17 and above.\n",
      "  and should_run_async(code)\n"
     ]
    }
   ],
   "source": [
    "aud_df.to_csv('160.csv',index=False)"
   ]
  },
  {
   "cell_type": "code",
   "execution_count": 34,
   "metadata": {},
   "outputs": [
    {
     "name": "stderr",
     "output_type": "stream",
     "text": [
      "/home/lustbeast/.virtualenvs/baseline/lib/python3.8/site-packages/ipykernel/ipkernel.py:283: DeprecationWarning: `should_run_async` will not call `transform_cell` automatically in the future. Please pass the result to `transformed_cell` argument and any exception that happen during thetransform in `preprocessing_exc_tuple` in IPython 7.17 and above.\n",
      "  and should_run_async(code)\n"
     ]
    },
    {
     "data": {
      "text/plain": [
       "10.0    173\n",
       "3.0       2\n",
       "6.0       2\n",
       "7.0       1\n",
       "9.0       1\n",
       "4.0       1\n",
       "Name: duration, dtype: int64"
      ]
     },
     "execution_count": 34,
     "metadata": {},
     "output_type": "execute_result"
    }
   ],
   "source": [
    "aud_df.duration.value_counts()"
   ]
  },
  {
   "cell_type": "code",
   "execution_count": 2,
   "metadata": {},
   "outputs": [],
   "source": [
    "import librosa"
   ]
  },
  {
   "cell_type": "code",
   "execution_count": 64,
   "metadata": {},
   "outputs": [
    {
     "name": "stderr",
     "output_type": "stream",
     "text": [
      "/home/lustbeast/.virtualenvs/baseline/lib/python3.8/site-packages/ipykernel/ipkernel.py:283: DeprecationWarning: `should_run_async` will not call `transform_cell` automatically in the future. Please pass the result to `transformed_cell` argument and any exception that happen during thetransform in `preprocessing_exc_tuple` in IPython 7.17 and above.\n",
      "  and should_run_async(code)\n"
     ]
    },
    {
     "data": {
      "text/html": [
       "<div>\n",
       "<style scoped>\n",
       "    .dataframe tbody tr th:only-of-type {\n",
       "        vertical-align: middle;\n",
       "    }\n",
       "\n",
       "    .dataframe tbody tr th {\n",
       "        vertical-align: top;\n",
       "    }\n",
       "\n",
       "    .dataframe thead th {\n",
       "        text-align: right;\n",
       "    }\n",
       "</style>\n",
       "<table border=\"1\" class=\"dataframe\">\n",
       "  <thead>\n",
       "    <tr style=\"text-align: right;\">\n",
       "      <th></th>\n",
       "      <th>path</th>\n",
       "      <th>vides-id</th>\n",
       "      <th>start_time</th>\n",
       "      <th>end_time</th>\n",
       "      <th>class</th>\n",
       "      <th>offset</th>\n",
       "      <th>folds</th>\n",
       "      <th>duration</th>\n",
       "    </tr>\n",
       "  </thead>\n",
       "  <tbody>\n",
       "  </tbody>\n",
       "</table>\n",
       "</div>"
      ],
      "text/plain": [
       "Empty DataFrame\n",
       "Columns: [path, vides-id, start_time, end_time, class, offset, folds, duration]\n",
       "Index: []"
      ]
     },
     "execution_count": 64,
     "metadata": {},
     "output_type": "execute_result"
    }
   ],
   "source": [
    "aud_df[aud_df.path == 'Baby/3 Year Old Crying over Justin Beaver']"
   ]
  },
  {
   "cell_type": "code",
   "execution_count": null,
   "metadata": {},
   "outputs": [],
   "source": []
  },
  {
   "cell_type": "code",
   "execution_count": 27,
   "metadata": {},
   "outputs": [],
   "source": [
    "y,sr = torchaudio.load(\"/media/lustbeast/6A38216B38213789/Intern Work/audio tagging/Baby/3 Year Old Crying over Justin Beaver.wav\",frame_offset=30*44100,num_frames=10*44100)"
   ]
  },
  {
   "cell_type": "code",
   "execution_count": 28,
   "metadata": {},
   "outputs": [
    {
     "data": {
      "text/plain": [
       "44100"
      ]
     },
     "execution_count": 28,
     "metadata": {},
     "output_type": "execute_result"
    }
   ],
   "source": [
    "sr"
   ]
  },
  {
   "cell_type": "code",
   "execution_count": 29,
   "metadata": {},
   "outputs": [
    {
     "data": {
      "text/plain": [
       "torch.Size([2, 441000])"
      ]
     },
     "execution_count": 29,
     "metadata": {},
     "output_type": "execute_result"
    }
   ],
   "source": [
    "y.shape"
   ]
  },
  {
   "cell_type": "code",
   "execution_count": 30,
   "metadata": {},
   "outputs": [
    {
     "data": {
      "text/plain": [
       "tensor([-0.0191, -0.0161, -0.0131,  ..., -0.0176, -0.0154, -0.0137])"
      ]
     },
     "execution_count": 30,
     "metadata": {},
     "output_type": "execute_result"
    }
   ],
   "source": [
    "y[0]"
   ]
  },
  {
   "cell_type": "code",
   "execution_count": 31,
   "metadata": {},
   "outputs": [
    {
     "data": {
      "text/plain": [
       "2"
      ]
     },
     "execution_count": 31,
     "metadata": {},
     "output_type": "execute_result"
    }
   ],
   "source": [
    "len(y)"
   ]
  },
  {
   "cell_type": "code",
   "execution_count": 32,
   "metadata": {},
   "outputs": [
    {
     "name": "stderr",
     "output_type": "stream",
     "text": [
      "/home/lustbeast/.virtualenvs/baseline/lib/python3.8/site-packages/torchaudio/functional/functional.py:432: UserWarning: At least one mel filterbank has all zero values. The value for `n_mels` (128) may be set too high. Or, the value for `n_freqs` (201) may be set too low.\n",
      "  warnings.warn(\n"
     ]
    }
   ],
   "source": [
    "mel = T.MelSpectrogram(sample_rate=44100)"
   ]
  },
  {
   "cell_type": "code",
   "execution_count": 33,
   "metadata": {},
   "outputs": [],
   "source": [
    "yy = mel(y)"
   ]
  },
  {
   "cell_type": "code",
   "execution_count": 34,
   "metadata": {},
   "outputs": [
    {
     "data": {
      "text/plain": [
       "torch.Size([2, 128, 2206])"
      ]
     },
     "execution_count": 34,
     "metadata": {},
     "output_type": "execute_result"
    }
   ],
   "source": [
    "yy.shape"
   ]
  },
  {
   "cell_type": "code",
   "execution_count": null,
   "metadata": {},
   "outputs": [],
   "source": []
  }
 ],
 "metadata": {
  "interpreter": {
   "hash": "67a3c7bae77d0a244b0e4b4024ce80f07cf8ad6fb06e78a2fdc9204da39bcbb0"
  },
  "kernelspec": {
   "display_name": "Python 3.8.10 64-bit ('baseline': virtualenv)",
   "name": "python3"
  },
  "language_info": {
   "codemirror_mode": {
    "name": "ipython",
    "version": 3
   },
   "file_extension": ".py",
   "mimetype": "text/x-python",
   "name": "python",
   "nbconvert_exporter": "python",
   "pygments_lexer": "ipython3",
   "version": "3.8.10"
  },
  "orig_nbformat": 4
 },
 "nbformat": 4,
 "nbformat_minor": 2
}
