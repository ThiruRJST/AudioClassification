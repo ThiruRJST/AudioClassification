{
 "cells": [
  {
   "cell_type": "code",
   "execution_count": 1,
   "metadata": {},
   "outputs": [],
   "source": [
    "from AudioUtils import AudioUtils"
   ]
  },
  {
   "cell_type": "code",
   "execution_count": 9,
   "metadata": {},
   "outputs": [],
   "source": [
    "import torchaudio"
   ]
  },
  {
   "cell_type": "code",
   "execution_count": 13,
   "metadata": {},
   "outputs": [],
   "source": [
    "import pandas as pd"
   ]
  },
  {
   "cell_type": "code",
   "execution_count": 2,
   "metadata": {},
   "outputs": [],
   "source": [
    "a = AudioUtils()"
   ]
  },
  {
   "cell_type": "code",
   "execution_count": 3,
   "metadata": {},
   "outputs": [],
   "source": [
    "aud = a.read_audio(\"/media/lustbeast/6A38216B38213789/Intern Work/audio tagging/Doorbell/Sound effect Doorbell.wav\",offset=0,duration=4)\n",
    "aud = a.rechannel(aud)"
   ]
  },
  {
   "cell_type": "code",
   "execution_count": 4,
   "metadata": {},
   "outputs": [
    {
     "data": {
      "text/plain": [
       "(tensor([[ 0.0000e+00,  0.0000e+00,  0.0000e+00,  ..., -3.0518e-05,\n",
       "           0.0000e+00,  0.0000e+00],\n",
       "         [ 0.0000e+00,  0.0000e+00,  0.0000e+00,  ..., -3.0518e-05,\n",
       "           0.0000e+00,  0.0000e+00]]),\n",
       " 44100)"
      ]
     },
     "execution_count": 4,
     "metadata": {},
     "output_type": "execute_result"
    }
   ],
   "source": [
    "aud"
   ]
  },
  {
   "cell_type": "code",
   "execution_count": 5,
   "metadata": {},
   "outputs": [],
   "source": [
    "aud = a.resample(aud)"
   ]
  },
  {
   "cell_type": "code",
   "execution_count": 6,
   "metadata": {},
   "outputs": [
    {
     "data": {
      "text/plain": [
       "torch.Size([2, 104448])"
      ]
     },
     "execution_count": 6,
     "metadata": {},
     "output_type": "execute_result"
    }
   ],
   "source": [
    "aud[0].shape"
   ]
  },
  {
   "cell_type": "code",
   "execution_count": 7,
   "metadata": {},
   "outputs": [],
   "source": [
    "aud = a.pad_audio(aud)"
   ]
  },
  {
   "cell_type": "code",
   "execution_count": 10,
   "metadata": {},
   "outputs": [
    {
     "name": "stderr",
     "output_type": "stream",
     "text": [
      "/home/lustbeast/.virtualenvs/baseline/lib/python3.8/site-packages/torchaudio/functional/functional.py:432: UserWarning: At least one mel filterbank has all zero values. The value for `n_mels` (256) may be set too high. Or, the value for `n_freqs` (1025) may be set too low.\n",
      "  warnings.warn(\n"
     ]
    }
   ],
   "source": [
    "aud = a.melspectro(aud)"
   ]
  },
  {
   "cell_type": "code",
   "execution_count": 12,
   "metadata": {},
   "outputs": [
    {
     "data": {
      "text/plain": [
       "torch.Size([2, 256, 3446])"
      ]
     },
     "execution_count": 12,
     "metadata": {},
     "output_type": "execute_result"
    }
   ],
   "source": [
    "aud.shape"
   ]
  },
  {
   "cell_type": "code",
   "execution_count": 17,
   "metadata": {},
   "outputs": [
    {
     "data": {
      "text/html": [
       "<div>\n",
       "<style scoped>\n",
       "    .dataframe tbody tr th:only-of-type {\n",
       "        vertical-align: middle;\n",
       "    }\n",
       "\n",
       "    .dataframe tbody tr th {\n",
       "        vertical-align: top;\n",
       "    }\n",
       "\n",
       "    .dataframe thead th {\n",
       "        text-align: right;\n",
       "    }\n",
       "</style>\n",
       "<table border=\"1\" class=\"dataframe\">\n",
       "  <thead>\n",
       "    <tr style=\"text-align: right;\">\n",
       "      <th></th>\n",
       "      <th>path</th>\n",
       "      <th>vides-id</th>\n",
       "      <th>start_time</th>\n",
       "      <th>end_time</th>\n",
       "      <th>class</th>\n",
       "      <th>offset</th>\n",
       "      <th>folds</th>\n",
       "      <th>duration</th>\n",
       "    </tr>\n",
       "  </thead>\n",
       "  <tbody>\n",
       "    <tr>\n",
       "      <th>28</th>\n",
       "      <td>Doorbell/Sound effect Doorbell</td>\n",
       "      <td>6qlfodh49BA</td>\n",
       "      <td>0.0</td>\n",
       "      <td>3.0</td>\n",
       "      <td>Doorbell</td>\n",
       "      <td>3.0</td>\n",
       "      <td>0</td>\n",
       "      <td>3.0</td>\n",
       "    </tr>\n",
       "    <tr>\n",
       "      <th>156</th>\n",
       "      <td>Doorbell/Door Bell - Ringtone</td>\n",
       "      <td>ptIHZv3KdJw</td>\n",
       "      <td>0.0</td>\n",
       "      <td>3.0</td>\n",
       "      <td>Doorbell</td>\n",
       "      <td>3.0</td>\n",
       "      <td>4</td>\n",
       "      <td>3.0</td>\n",
       "    </tr>\n",
       "  </tbody>\n",
       "</table>\n",
       "</div>"
      ],
      "text/plain": [
       "                               path     vides-id  start_time  end_time  \\\n",
       "28   Doorbell/Sound effect Doorbell  6qlfodh49BA         0.0       3.0   \n",
       "156   Doorbell/Door Bell - Ringtone  ptIHZv3KdJw         0.0       3.0   \n",
       "\n",
       "        class  offset  folds  duration  \n",
       "28   Doorbell     3.0      0       3.0  \n",
       "156  Doorbell     3.0      4       3.0  "
      ]
     },
     "execution_count": 17,
     "metadata": {},
     "output_type": "execute_result"
    }
   ],
   "source": [
    "d[d.duration == 3]"
   ]
  },
  {
   "cell_type": "code",
   "execution_count": 1,
   "metadata": {},
   "outputs": [],
   "source": [
    "import torchaudio"
   ]
  },
  {
   "cell_type": "code",
   "execution_count": 2,
   "metadata": {},
   "outputs": [
    {
     "ename": "RuntimeError",
     "evalue": "Error loading audio file: failed to open file Conversation/Egypt (Kemet): The Source Of The Bible, Part 1 - Dr. Ray Hagins.wav",
     "output_type": "error",
     "traceback": [
      "\u001b[0;31m---------------------------------------------------------------------------\u001b[0m",
      "\u001b[0;31mRuntimeError\u001b[0m                              Traceback (most recent call last)",
      "\u001b[0;32m<ipython-input-2-99aff808e978>\u001b[0m in \u001b[0;36m<module>\u001b[0;34m\u001b[0m\n\u001b[0;32m----> 1\u001b[0;31m \u001b[0mtorchaudio\u001b[0m\u001b[0;34m.\u001b[0m\u001b[0mload\u001b[0m\u001b[0;34m(\u001b[0m\u001b[0;34m\"Conversation/Egypt (Kemet): The Source Of The Bible, Part 1 - Dr. Ray Hagins.wav\"\u001b[0m\u001b[0;34m)\u001b[0m\u001b[0;34m\u001b[0m\u001b[0;34m\u001b[0m\u001b[0m\n\u001b[0m",
      "\u001b[0;32m~/.virtualenvs/baseline/lib/python3.8/site-packages/torchaudio/backend/sox_io_backend.py\u001b[0m in \u001b[0;36mload\u001b[0;34m(filepath, frame_offset, num_frames, normalize, channels_first, format)\u001b[0m\n\u001b[1;32m    150\u001b[0m                 filepath, frame_offset, num_frames, normalize, channels_first, format)\n\u001b[1;32m    151\u001b[0m         \u001b[0mfilepath\u001b[0m \u001b[0;34m=\u001b[0m \u001b[0mos\u001b[0m\u001b[0;34m.\u001b[0m\u001b[0mfspath\u001b[0m\u001b[0;34m(\u001b[0m\u001b[0mfilepath\u001b[0m\u001b[0;34m)\u001b[0m\u001b[0;34m\u001b[0m\u001b[0;34m\u001b[0m\u001b[0m\n\u001b[0;32m--> 152\u001b[0;31m     return torch.ops.torchaudio.sox_io_load_audio_file(\n\u001b[0m\u001b[1;32m    153\u001b[0m         filepath, frame_offset, num_frames, normalize, channels_first, format)\n\u001b[1;32m    154\u001b[0m \u001b[0;34m\u001b[0m\u001b[0m\n",
      "\u001b[0;31mRuntimeError\u001b[0m: Error loading audio file: failed to open file Conversation/Egypt (Kemet): The Source Of The Bible, Part 1 - Dr. Ray Hagins.wav"
     ]
    }
   ],
   "source": [
    "torchaudio.load(\"Conversation/Egypt (Kemet): The Source Of The Bible, Part 1 - Dr. Ray Hagins.wav\")"
   ]
  },
  {
   "cell_type": "code",
   "execution_count": 3,
   "metadata": {},
   "outputs": [],
   "source": [
    "import glob"
   ]
  },
  {
   "cell_type": "code",
   "execution_count": 6,
   "metadata": {},
   "outputs": [],
   "source": [
    "baby_paths = sorted(glob.glob(\"Baby/*.wav\"))"
   ]
  },
  {
   "cell_type": "code",
   "execution_count": 23,
   "metadata": {},
   "outputs": [],
   "source": [
    "p = {}\n",
    "path_map = map(lambda x : p[x]=baby_paths.index(x),baby_paths)"
   ]
  },
  {
   "cell_type": "code",
   "execution_count": 24,
   "metadata": {},
   "outputs": [
    {
     "name": "stdout",
     "output_type": "stream",
     "text": [
      "{'Baby/3 Year Old Crying over Justin Beaver.wav': 0}\n",
      "{'Baby/8 Baby Caillou Crying 9 Baby Caillou firsts steps 10 Caillous first day of school 11  Pack 3.wav': 1}\n",
      "{'Baby/Alondra Capitulo 564.wav': 2}\n",
      "{'Baby/Ashton irwin making a baby cry  9613.wav': 3}\n",
      "{'Baby/AskANull with TALKING Audriauna!!!.wav': 4}\n",
      "{'Baby/Baby Connor at the doctor part two 3 months old.wav': 5}\n",
      "{'Baby/Baby crying after Neymar Horror Injury [World Cup 2014].wav': 6}\n",
      "{'Baby/Baby crying on a plane for 5 hours on a 12-hour flight.wav': 7}\n",
      "{'Baby/Benign myoclonus of early infancy Benign infantile spasms.wav': 8}\n",
      "{'Baby/Best way to stop baby crying.wav': 9}\n",
      "{'Baby/Cat Stops Baby From Crying !.wav': 10}\n",
      "{'Baby/Charlie crying.wav': 11}\n",
      "{'Baby/Crying Emma.wav': 12}\n",
      "{'Baby/Crying like a Baby.wav': 13}\n",
      "{'Baby/Crying out loud.wav': 14}\n",
      "{'Baby/Curing a crying baby.wav': 15}\n",
      "{'Baby/Disnea en niños Frecuente en Asma Neumonia Bronquitis y en el Resfriado.wav': 16}\n",
      "{'Baby/Emilie reacts to baby hedgehog crying.wav': 17}\n",
      "{'Baby/Ghost Crying Part Pi - Mabel Gets Shittee.wav': 18}\n",
      "{'Baby/Have you ever seen baby Crying and Laughing in The Same Time.wav': 19}\n",
      "{'Baby/How to calm a crying baby in less than a minute.wav': 20}\n",
      "{'Baby/How to make a baby stop crying.wav': 21}\n",
      "{'Baby/Kid Crying over Halo 3.wav': 22}\n",
      "{'Baby/Laelia walks up a ramp without braces while crying.wav': 23}\n",
      "{'Baby/Little Baby McKenna Crying.wav': 24}\n",
      "{'Baby/Modern Family Mitchell Scared Of a Pigeon & Destroy The House.wav': 25}\n",
      "{'Baby/Parrot Crying كاسكو حسينيات يبكي.wav': 26}\n",
      "{'Baby/Robot Boy Bumper - Crying Baby.wav': 27}\n",
      "{'Baby/Sims Medieval - Baby cryingbreastfeeding.wav': 28}\n",
      "{'Baby/South Park Ike Crying.wav': 29}\n",
      "{'Baby/The Hangover Part III - Alan Crying [HD].wav': 30}\n",
      "{'Baby/Twins Play Footsies! - itsMommysLife.wav': 31}\n",
      "{'Baby/amazing baby crying girl u have to see it.wav': 32}\n",
      "{'Baby/baby crying so sad.wav': 33}\n",
      "{'Baby/baby mario crying.wav': 34}\n",
      "{'Baby/bobasy.wav': 35}\n",
      "{'Baby/crying baby.wav': 36}\n",
      "{'Baby/crying.wav': 37}\n",
      "{'Baby/first crying video.wav': 38}\n",
      "{'Baby/little girl crying for Niall from one direction.wav': 39}\n",
      "{'Baby/remi fake crying.wav': 40}\n",
      "{'Baby/salman al muqtadir Crying funny  how to make a baby cry.wav': 41}\n",
      "{'Baby/small girl crying.wav': 42}\n",
      "{'Baby/طفلة تبكي ( بعد سنتين ) baby crying after 2 years.wav': 43}\n"
     ]
    }
   ],
   "source": [
    "for i in path_map:\n",
    "    print(i)"
   ]
  },
  {
   "cell_type": "code",
   "execution_count": null,
   "metadata": {},
   "outputs": [],
   "source": []
  }
 ],
 "metadata": {
  "interpreter": {
   "hash": "67a3c7bae77d0a244b0e4b4024ce80f07cf8ad6fb06e78a2fdc9204da39bcbb0"
  },
  "kernelspec": {
   "display_name": "Python 3.8.10 64-bit ('baseline': virtualenv)",
   "name": "python3"
  },
  "language_info": {
   "codemirror_mode": {
    "name": "ipython",
    "version": 3
   },
   "file_extension": ".py",
   "mimetype": "text/x-python",
   "name": "python",
   "nbconvert_exporter": "python",
   "pygments_lexer": "ipython3",
   "version": "3.8.10"
  },
  "orig_nbformat": 4
 },
 "nbformat": 4,
 "nbformat_minor": 2
}
